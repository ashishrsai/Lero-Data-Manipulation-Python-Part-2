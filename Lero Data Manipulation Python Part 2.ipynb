{
  "cells": [
    {
      "metadata": {
        "slideshow": {
          "slide_type": "slide"
        }
      },
      "cell_type": "markdown",
      "source": "\n\n# Data Manipulation in Python Part 2\n\n#### Ashish Rajendra Sai\n\n###### Ph.D. Candidate - University of Limerick \n\nAugust 18, 2020\n\n <img src=\"Lero.png\" style=\"width: 400px;\" align=\"left\"/>    <img src=\"sfi.png\" style=\"width: 400px;float: right;\"/>\n\n\n"
    },
    {
      "metadata": {
        "slideshow": {
          "slide_type": "subslide"
        }
      },
      "cell_type": "markdown",
      "source": "#### Who am I?\n\n###### Ashish Rajendra Sai\n\n- Final year Ph.D. student at the University of Limerick under the supervision of Dr. Jim Buckley\n- Doctoral Researcher in Lero: The Irish Software Research Centre \n- Currently a Visiting Researcher at the University of California, Berkeley\n- Long time interest in teaching programming to non-cs professionals and students:\n    - Programming can be super fun and useful once we jump past some hoops\n    \n\n------\n\n<img src=\"Lero.png\" alt=\"Drawing\" style=\"width: 200px;\" align=\"left\"/> "
    },
    {
      "metadata": {
        "slideshow": {
          "slide_type": "subslide"
        }
      },
      "cell_type": "markdown",
      "source": "#### How today might work\n\n###### Zoom Meeting:\n\n- I will present in approximately 15 - minute slots, over an hour.\n- I would like to take all questions via the zoom 'chat' \n  - What is a function? Why does it matter? ....\n  - The importance of questions in this session.\n- I will answer them in real-time, at the end of the 15 minutes or at the end of the session entirely (if I think they will be covered by something later)\n\n------\n\n<img src=\"Lero.png\" alt=\"Drawing\" style=\"width: 200px;\" align=\"left\"/>"
    },
    {
      "metadata": {
        "slideshow": {
          "slide_type": "subslide"
        }
      },
      "cell_type": "markdown",
      "source": "#### Welcome to today's class!\n\n###### Today's Agenda\n\n1. Overview of Lero Data Manipulation Python Part 1\n2. How to write and run Python code recap \n3. Introduction to Student Excel Sheet and tasks\n4. Implement basic data manipulation functions \n5. Useful graphing and data manipulation libraries in Python\n6. Predictive analysis in Python: Linear Regression \n7. Where to go from here?\n\n------\n\n<img src=\"Lero.png\" alt=\"Drawing\" style=\"width: 200px;\" align=\"left\"/> "
    },
    {
      "metadata": {
        "slideshow": {
          "slide_type": "slide"
        }
      },
      "cell_type": "markdown",
      "source": "#### Overview of Lero Data Manipulation Python Part 1\n\n------\n\n- 1 What a variable is and how to declare and use it?\n- 2 Complex data types such as a List and Dict\n- 3 How to read these data types by using a loop?\n- 4 How to use predefined functions?\n- 5 How to use external libraries?\n\n------\n\n<img src=\"Lero.png\" alt=\"Drawing\" style=\"width: 200px;\" align=\"left\"/> "
    },
    {
      "metadata": {
        "slideshow": {
          "slide_type": "subslide"
        }
      },
      "cell_type": "markdown",
      "source": "- 1 What a variable is and how to declare and use it?"
    },
    {
      "metadata": {
        "trusted": true
      },
      "cell_type": "code",
      "source": "Name = \"John Wick\"\nAge = 28\nPercentage = 76.54\n# print(type(Percentage))",
      "execution_count": 2,
      "outputs": []
    },
    {
      "metadata": {
        "slideshow": {
          "slide_type": "subslide"
        }
      },
      "cell_type": "markdown",
      "source": "- 2 Complex data types such as a List and Dict"
    },
    {
      "metadata": {
        "trusted": true
      },
      "cell_type": "code",
      "source": "ResultsBySubject = [74,38,85,92]\n# print(type(ResultsBySubject))",
      "execution_count": 4,
      "outputs": []
    },
    {
      "metadata": {
        "trusted": true
      },
      "cell_type": "code",
      "source": "ResultsBySubject = {\"CS\":74,\"History\":38,\"Arts\":85,\"Geography\":92}\n# print(type(ResultsBySubject))",
      "execution_count": 6,
      "outputs": []
    },
    {
      "metadata": {
        "slideshow": {
          "slide_type": "subslide"
        }
      },
      "cell_type": "markdown",
      "source": "- 3 How to read these data types by using a loop?"
    },
    {
      "metadata": {
        "trusted": true
      },
      "cell_type": "code",
      "source": "ResultsBySubject = [74,38,85,92]\n\nfor result in ResultsBySubject:\n    print(result)",
      "execution_count": 9,
      "outputs": [
        {
          "output_type": "stream",
          "text": "74\n38\n85\n92\n",
          "name": "stdout"
        }
      ]
    },
    {
      "metadata": {
        "trusted": true
      },
      "cell_type": "code",
      "source": "ResultsBySubject = {\"CS\":74,\"History\":38,\"Arts\":85,\"Geography\":92}\n\nfor subject in ResultsBySubject:\n    print(subject)",
      "execution_count": 14,
      "outputs": [
        {
          "output_type": "stream",
          "text": "CS\nHistory\nArts\nGeography\n",
          "name": "stdout"
        }
      ]
    },
    {
      "metadata": {
        "slideshow": {
          "slide_type": "subslide"
        }
      },
      "cell_type": "markdown",
      "source": "- 4 How to use predefined functions?"
    },
    {
      "metadata": {
        "trusted": true
      },
      "cell_type": "code",
      "source": "ResultsBySubject = {\"CS\":74,\"History\":38,\"Arts\":85,\"Geography\":92}\n\nprint(type(ResultsBySubject))\nprint(len(ResultsBySubject))",
      "execution_count": 16,
      "outputs": [
        {
          "output_type": "stream",
          "text": "<class 'dict'>\n4\n",
          "name": "stdout"
        }
      ]
    },
    {
      "metadata": {},
      "cell_type": "markdown",
      "source": "- 5 How to use external libraries?"
    },
    {
      "metadata": {
        "trusted": true
      },
      "cell_type": "code",
      "source": "import pandas as pd \n\nstudentResults = pd.read_csv('/home/nbuser/studentResults.csv')\n\nLuke = studentResults.iloc[0]\n\nprint(Luke)",
      "execution_count": 31,
      "outputs": [
        {
          "output_type": "stream",
          "text": "Name       Luke\nAge          24\nScience      45\nMaths        10\nBiology      53\nCS           84\nHistory      89\nName: 0, dtype: object\n",
          "name": "stdout"
        }
      ]
    },
    {
      "metadata": {
        "slideshow": {
          "slide_type": "slide"
        }
      },
      "cell_type": "markdown",
      "source": "#### What do you need to be able to code in Python?\n\n------\n\n- To make our life easy we are going to use free online hosted integrated development environments for Python.\n\n- No need to download or set up anything: Be careful with your company policies, you do not want sensitive data on these third party computers. \n\n- List of free online IDEs to get you started;\n    - Google Colaboratory (Colab) Link: https://colab.research.google.com/\n    - Microsoft Azure Notebooks Link: https://notebooks.azure.com/ (This is what we will use today)\n    - CoCalc Link: https://cocalc.com/ (Good but slow :( )\n    - Kaggle Kernels Link: https://www.kaggle.com/ (Mostly for data science nerds)\n    - You can always use vanilla Jupyter Notebook on your own PC Link: https://jupyter.org/\n------\n\n<img src=\"Lero.png\" alt=\"Drawing\" style=\"width: 200px;\" align=\"left\"/> "
    },
    {
      "metadata": {
        "slideshow": {
          "slide_type": "slide"
        }
      },
      "cell_type": "markdown",
      "source": "#### Introduction to Student Excel Sheet and tasks\n\n------\n\n- This Excel sheet was used by Dr. Jim Buckley in the first workshop. \n\n- We have a list of 40 students undertaking a hypothetical module called Resp. Digital Citizenship.\n\n- We need to use Python to find;\n    - 1) Calculate Marks for Mid-Term and Final Exam\n    - 2) Calculate total marks\n    - 3) Assign Grade to Each Student\n    - 4) Calculate Ranks for Students\n    - 5) Create E-mail addresses using Student ID\n    - 6) Calculate Average score\n    - 7) Find Min and Max Score\n    - 8) Plot a histogram of final scores\n------\n\n<img src=\"Lero.png\" alt=\"Drawing\" style=\"width: 200px;\" align=\"left\"/> "
    },
    {
      "metadata": {
        "slideshow": {
          "slide_type": "slide"
        }
      },
      "cell_type": "markdown",
      "source": "#### Implement basic data manipulation functions\n\n------\n\n- We will start by reading the xlsx file "
    },
    {
      "metadata": {
        "trusted": true
      },
      "cell_type": "code",
      "source": "import pandas as pd\n\ncsis9999 = pd.read_excel(\"CSIS9999.xlsx\")\n\n# Note that we have used a function called head to look at the top 5 entries in the Excel file\n# csis9999.head()\n# Here are some other ways of exploring the data before we start manipulating it\n\n# print(csis9999)\n# csis9999.describe()",
      "execution_count": 88,
      "outputs": []
    },
    {
      "metadata": {
        "slideshow": {
          "slide_type": "subslide"
        }
      },
      "cell_type": "markdown",
      "source": "- 1) Calculate Marks for Mid-Term, Project and Final Exam\n\n- Our Excel sheet contains Mid Term (out of 30), Practical (out of 20) and final exam (out of 100) \n\n- Our target distribution is Mid Term (out of 15), Practical (out of 20) and final exam(out of 65)\n"
    },
    {
      "metadata": {
        "trusted": true,
        "slideshow": {
          "slide_type": "subslide"
        }
      },
      "cell_type": "code",
      "source": "import pandas as pd\n\n\ncsis9999 = pd.read_excel(\"CSIS9999.xlsx\")\n\n# We start by creating two new columns for Mid_Term_15 and Final_Exam_65\n\ncsis9999['Mid_term_15'] = 0.0\n\ncsis9999['Final_Exam_65'] = 0.0\n\n# print(csis9999)\n\n# NOTE: Pandas will create a dataframe out of your Excel sheet, to read the values in our excel sheet we can use the method itertuples()\nfor student in csis9999.itertuples():\n    # print(student)\n    # Here we are using an inbuilt function of Pandas Data Frame to assign a value to a column\n    csis9999.at[student.Index, 'Mid_term_15'] = student.Mid_term_30/2\n    # We can repeat the same process for Final_Exam_65\n    csis9999.at[student.Index, 'Final_Exam_65'] = (student.Final_Exam_100/100)*65\ncsis9999.head()    ",
      "execution_count": 109,
      "outputs": [
        {
          "output_type": "execute_result",
          "execution_count": 109,
          "data": {
            "text/html": "<div>\n<style scoped>\n    .dataframe tbody tr th:only-of-type {\n        vertical-align: middle;\n    }\n\n    .dataframe tbody tr th {\n        vertical-align: top;\n    }\n\n    .dataframe thead th {\n        text-align: right;\n    }\n</style>\n<table border=\"1\" class=\"dataframe\">\n  <thead>\n    <tr style=\"text-align: right;\">\n      <th></th>\n      <th>Student_ID</th>\n      <th>Student_Surname</th>\n      <th>Forename</th>\n      <th>Course</th>\n      <th>Mid_term_30</th>\n      <th>Practical_20</th>\n      <th>Final_Exam_100</th>\n      <th>Mid_term_15</th>\n      <th>Final_Exam_65</th>\n    </tr>\n  </thead>\n  <tbody>\n    <tr>\n      <th>0</th>\n      <td>1234567</td>\n      <td>Alderon</td>\n      <td>Mike</td>\n      <td>Comp Sys</td>\n      <td>7.0</td>\n      <td>18.0</td>\n      <td>50.5</td>\n      <td>3.50</td>\n      <td>32.825</td>\n    </tr>\n    <tr>\n      <th>1</th>\n      <td>12345678</td>\n      <td>Brehony</td>\n      <td>Tom</td>\n      <td>Digital Media</td>\n      <td>2.5</td>\n      <td>9.0</td>\n      <td>41.0</td>\n      <td>1.25</td>\n      <td>26.650</td>\n    </tr>\n    <tr>\n      <th>2</th>\n      <td>23456789</td>\n      <td>Brennan</td>\n      <td>Grace</td>\n      <td>Games</td>\n      <td>23.0</td>\n      <td>19.5</td>\n      <td>35.5</td>\n      <td>11.50</td>\n      <td>23.075</td>\n    </tr>\n    <tr>\n      <th>3</th>\n      <td>34567890</td>\n      <td>Casment</td>\n      <td>Eoin</td>\n      <td>Games</td>\n      <td>4.0</td>\n      <td>5.0</td>\n      <td>41.0</td>\n      <td>2.00</td>\n      <td>26.650</td>\n    </tr>\n    <tr>\n      <th>4</th>\n      <td>45678901</td>\n      <td>Cleere</td>\n      <td>Anthony</td>\n      <td>Digital Media</td>\n      <td>21.5</td>\n      <td>20.0</td>\n      <td>71.5</td>\n      <td>10.75</td>\n      <td>46.475</td>\n    </tr>\n  </tbody>\n</table>\n</div>",
            "text/plain": "   Student_ID Student_Surname Forename         Course  Mid_term_30  \\\n0     1234567         Alderon     Mike       Comp Sys          7.0   \n1    12345678         Brehony      Tom  Digital Media          2.5   \n2    23456789         Brennan    Grace          Games         23.0   \n3    34567890         Casment     Eoin          Games          4.0   \n4    45678901          Cleere  Anthony  Digital Media         21.5   \n\n   Practical_20  Final_Exam_100  Mid_term_15  Final_Exam_65  \n0          18.0            50.5         3.50         32.825  \n1           9.0            41.0         1.25         26.650  \n2          19.5            35.5        11.50         23.075  \n3           5.0            41.0         2.00         26.650  \n4          20.0            71.5        10.75         46.475  "
          },
          "metadata": {}
        }
      ]
    },
    {
      "metadata": {
        "slideshow": {
          "slide_type": "subslide"
        }
      },
      "cell_type": "markdown",
      "source": "- 2) Calculate Marks for Mid-Term, Project and Final Exam\n    - We have already calculated Mid-Term and Final Exam grades now we only need to sum these two values"
    },
    {
      "metadata": {
        "trusted": true
      },
      "cell_type": "code",
      "source": "# csis9999.head()\n\n# We need to create a new column first \n\ncsis9999['Total_Marks'] = 0.0\n\nfor student in csis9999.itertuples():\n    csis9999.at[student.Index, 'Total_Marks'] = student.Mid_term_15 + student.Practical_20 + student.Final_Exam_65\n\ncsis9999.head()",
      "execution_count": 110,
      "outputs": [
        {
          "output_type": "execute_result",
          "execution_count": 110,
          "data": {
            "text/html": "<div>\n<style scoped>\n    .dataframe tbody tr th:only-of-type {\n        vertical-align: middle;\n    }\n\n    .dataframe tbody tr th {\n        vertical-align: top;\n    }\n\n    .dataframe thead th {\n        text-align: right;\n    }\n</style>\n<table border=\"1\" class=\"dataframe\">\n  <thead>\n    <tr style=\"text-align: right;\">\n      <th></th>\n      <th>Student_ID</th>\n      <th>Student_Surname</th>\n      <th>Forename</th>\n      <th>Course</th>\n      <th>Mid_term_30</th>\n      <th>Practical_20</th>\n      <th>Final_Exam_100</th>\n      <th>Mid_term_15</th>\n      <th>Final_Exam_65</th>\n      <th>Total_Marks</th>\n    </tr>\n  </thead>\n  <tbody>\n    <tr>\n      <th>0</th>\n      <td>1234567</td>\n      <td>Alderon</td>\n      <td>Mike</td>\n      <td>Comp Sys</td>\n      <td>7.0</td>\n      <td>18.0</td>\n      <td>50.5</td>\n      <td>3.50</td>\n      <td>32.825</td>\n      <td>54.325</td>\n    </tr>\n    <tr>\n      <th>1</th>\n      <td>12345678</td>\n      <td>Brehony</td>\n      <td>Tom</td>\n      <td>Digital Media</td>\n      <td>2.5</td>\n      <td>9.0</td>\n      <td>41.0</td>\n      <td>1.25</td>\n      <td>26.650</td>\n      <td>36.900</td>\n    </tr>\n    <tr>\n      <th>2</th>\n      <td>23456789</td>\n      <td>Brennan</td>\n      <td>Grace</td>\n      <td>Games</td>\n      <td>23.0</td>\n      <td>19.5</td>\n      <td>35.5</td>\n      <td>11.50</td>\n      <td>23.075</td>\n      <td>54.075</td>\n    </tr>\n    <tr>\n      <th>3</th>\n      <td>34567890</td>\n      <td>Casment</td>\n      <td>Eoin</td>\n      <td>Games</td>\n      <td>4.0</td>\n      <td>5.0</td>\n      <td>41.0</td>\n      <td>2.00</td>\n      <td>26.650</td>\n      <td>33.650</td>\n    </tr>\n    <tr>\n      <th>4</th>\n      <td>45678901</td>\n      <td>Cleere</td>\n      <td>Anthony</td>\n      <td>Digital Media</td>\n      <td>21.5</td>\n      <td>20.0</td>\n      <td>71.5</td>\n      <td>10.75</td>\n      <td>46.475</td>\n      <td>77.225</td>\n    </tr>\n  </tbody>\n</table>\n</div>",
            "text/plain": "   Student_ID Student_Surname Forename         Course  Mid_term_30  \\\n0     1234567         Alderon     Mike       Comp Sys          7.0   \n1    12345678         Brehony      Tom  Digital Media          2.5   \n2    23456789         Brennan    Grace          Games         23.0   \n3    34567890         Casment     Eoin          Games          4.0   \n4    45678901          Cleere  Anthony  Digital Media         21.5   \n\n   Practical_20  Final_Exam_100  Mid_term_15  Final_Exam_65  Total_Marks  \n0          18.0            50.5         3.50         32.825       54.325  \n1           9.0            41.0         1.25         26.650       36.900  \n2          19.5            35.5        11.50         23.075       54.075  \n3           5.0            41.0         2.00         26.650       33.650  \n4          20.0            71.5        10.75         46.475       77.225  "
          },
          "metadata": {}
        }
      ]
    },
    {
      "metadata": {
        "slideshow": {
          "slide_type": "subslide"
        }
      },
      "cell_type": "markdown",
      "source": "- 3) Assign Grade to Each Student\n\n| Total_Marks| Grade |\n|------|----|\n| 0    | NG |\n| 0.01 | F  |\n| 30   | D2 |\n| 35   | D1 |\n| 40   | C3 |\n| 48   | C2 |\n| 52   | C1 |\n| 56   | B3 |\n| 60   | B2 |\n| 64   | B1 |\n| 72   | A2 |\n| 80   | A1 |"
    },
    {
      "metadata": {},
      "cell_type": "markdown",
      "source": "- A lot to unpack here\n    - If the Total_Marks are greater than or equal to 80, we assign a Grade of A1.\n    - We need to check **if** the Total_Marks are greater than or equal to a threshold. \n- In programming, we use conditional statements for this purpose\n    - We will use if-else statements to solve this issue"
    },
    {
      "metadata": {
        "slideshow": {
          "slide_type": "subslide"
        },
        "trusted": true
      },
      "cell_type": "code",
      "source": "csis9999['Grade'] = \"NA\"\n\nfor student in csis9999.itertuples():\n    if (student.Total_Marks) >= 80:\n        csis9999.at[student.Index, 'Grade'] = \"A1\"\n    else:\n        if (student.Total_Marks) >= 72:\n            csis9999.at[student.Index, 'Grade'] = \"A2\"\n        else:\n            if (student.Total_Marks) >= 64:\n                csis9999.at[student.Index, 'Grade'] = \"B1\"\n            else:\n                if (student.Total_Marks) >= 60:\n                    csis9999.at[student.Index, 'Grade'] = \"B2\"\n                else:\n                    if (student.Total_Marks) >= 56:\n                        csis9999.at[student.Index, 'Grade'] = \"B3\"\n                    else:\n                        if (student.Total_Marks) >= 52:\n                            csis9999.at[student.Index, 'Grade'] = \"C1\"\n                        else:\n                            if (student.Total_Marks) >= 48:\n                                csis9999.at[student.Index, 'Grade'] = \"C2\"\n                            else: \n                                if (student.Total_Marks) >= 40:\n                                    csis9999.at[student.Index, 'Grade'] = \"C3\"  \n                                else:\n                                    if(student.Total_Marks) >= 35:\n                                        csis9999.at[student.Index, 'Grade'] = \"D1\" \n                                    else:\n                                        if (student.Total_Marks)>=30:\n                                            csis9999.at[student.Index, 'Grade'] = \"D2\"\n                                        else:\n                                            if (student.Total_Marks) <30:\n                                                csis9999.at[student.Index, 'Grade'] = \"F\"\n                                            else:\n                                                csis9999.at[student.Index, 'Grade'] = \"NG\"\n\ncsis9999.head()",
      "execution_count": 123,
      "outputs": [
        {
          "output_type": "execute_result",
          "execution_count": 123,
          "data": {
            "text/html": "<div>\n<style scoped>\n    .dataframe tbody tr th:only-of-type {\n        vertical-align: middle;\n    }\n\n    .dataframe tbody tr th {\n        vertical-align: top;\n    }\n\n    .dataframe thead th {\n        text-align: right;\n    }\n</style>\n<table border=\"1\" class=\"dataframe\">\n  <thead>\n    <tr style=\"text-align: right;\">\n      <th></th>\n      <th>Student_ID</th>\n      <th>Student_Surname</th>\n      <th>Forename</th>\n      <th>Course</th>\n      <th>Mid_term_30</th>\n      <th>Practical_20</th>\n      <th>Final_Exam_100</th>\n      <th>Mid_term_15</th>\n      <th>Final_Exam_65</th>\n      <th>Total_Marks</th>\n      <th>Grade</th>\n    </tr>\n  </thead>\n  <tbody>\n    <tr>\n      <th>0</th>\n      <td>1234567</td>\n      <td>Alderon</td>\n      <td>Mike</td>\n      <td>Comp Sys</td>\n      <td>7.0</td>\n      <td>18.0</td>\n      <td>50.5</td>\n      <td>3.50</td>\n      <td>32.825</td>\n      <td>54.325</td>\n      <td>C1</td>\n    </tr>\n    <tr>\n      <th>1</th>\n      <td>12345678</td>\n      <td>Brehony</td>\n      <td>Tom</td>\n      <td>Digital Media</td>\n      <td>2.5</td>\n      <td>9.0</td>\n      <td>41.0</td>\n      <td>1.25</td>\n      <td>26.650</td>\n      <td>36.900</td>\n      <td>D1</td>\n    </tr>\n    <tr>\n      <th>2</th>\n      <td>23456789</td>\n      <td>Brennan</td>\n      <td>Grace</td>\n      <td>Games</td>\n      <td>23.0</td>\n      <td>19.5</td>\n      <td>35.5</td>\n      <td>11.50</td>\n      <td>23.075</td>\n      <td>54.075</td>\n      <td>C1</td>\n    </tr>\n    <tr>\n      <th>3</th>\n      <td>34567890</td>\n      <td>Casment</td>\n      <td>Eoin</td>\n      <td>Games</td>\n      <td>4.0</td>\n      <td>5.0</td>\n      <td>41.0</td>\n      <td>2.00</td>\n      <td>26.650</td>\n      <td>33.650</td>\n      <td>D2</td>\n    </tr>\n    <tr>\n      <th>4</th>\n      <td>45678901</td>\n      <td>Cleere</td>\n      <td>Anthony</td>\n      <td>Digital Media</td>\n      <td>21.5</td>\n      <td>20.0</td>\n      <td>71.5</td>\n      <td>10.75</td>\n      <td>46.475</td>\n      <td>77.225</td>\n      <td>A2</td>\n    </tr>\n  </tbody>\n</table>\n</div>",
            "text/plain": "   Student_ID Student_Surname Forename         Course  Mid_term_30  \\\n0     1234567         Alderon     Mike       Comp Sys          7.0   \n1    12345678         Brehony      Tom  Digital Media          2.5   \n2    23456789         Brennan    Grace          Games         23.0   \n3    34567890         Casment     Eoin          Games          4.0   \n4    45678901          Cleere  Anthony  Digital Media         21.5   \n\n   Practical_20  Final_Exam_100  Mid_term_15  Final_Exam_65  Total_Marks Grade  \n0          18.0            50.5         3.50         32.825       54.325    C1  \n1           9.0            41.0         1.25         26.650       36.900    D1  \n2          19.5            35.5        11.50         23.075       54.075    C1  \n3           5.0            41.0         2.00         26.650       33.650    D2  \n4          20.0            71.5        10.75         46.475       77.225    A2  "
          },
          "metadata": {}
        }
      ]
    },
    {
      "metadata": {
        "slideshow": {
          "slide_type": "subslide"
        }
      },
      "cell_type": "markdown",
      "source": "- 4. Calculate Ranks for Students\n     - Student with the highest Total_Marks should have rank 1."
    },
    {
      "metadata": {
        "trusted": true
      },
      "cell_type": "code",
      "source": "csis9999.head()\n\ncsis9999['Rank'] = csis9999['Total_Marks'].rank(ascending=False)\n\ncsis9999.head()",
      "execution_count": 127,
      "outputs": [
        {
          "output_type": "execute_result",
          "execution_count": 127,
          "data": {
            "text/html": "<div>\n<style scoped>\n    .dataframe tbody tr th:only-of-type {\n        vertical-align: middle;\n    }\n\n    .dataframe tbody tr th {\n        vertical-align: top;\n    }\n\n    .dataframe thead th {\n        text-align: right;\n    }\n</style>\n<table border=\"1\" class=\"dataframe\">\n  <thead>\n    <tr style=\"text-align: right;\">\n      <th></th>\n      <th>Student_ID</th>\n      <th>Student_Surname</th>\n      <th>Forename</th>\n      <th>Course</th>\n      <th>Mid_term_30</th>\n      <th>Practical_20</th>\n      <th>Final_Exam_100</th>\n      <th>Mid_term_15</th>\n      <th>Final_Exam_65</th>\n      <th>Total_Marks</th>\n      <th>Grade</th>\n      <th>Rank</th>\n    </tr>\n  </thead>\n  <tbody>\n    <tr>\n      <th>0</th>\n      <td>1234567</td>\n      <td>Alderon</td>\n      <td>Mike</td>\n      <td>Comp Sys</td>\n      <td>7.0</td>\n      <td>18.0</td>\n      <td>50.5</td>\n      <td>3.50</td>\n      <td>32.825</td>\n      <td>54.325</td>\n      <td>C1</td>\n      <td>21.0</td>\n    </tr>\n    <tr>\n      <th>1</th>\n      <td>12345678</td>\n      <td>Brehony</td>\n      <td>Tom</td>\n      <td>Digital Media</td>\n      <td>2.5</td>\n      <td>9.0</td>\n      <td>41.0</td>\n      <td>1.25</td>\n      <td>26.650</td>\n      <td>36.900</td>\n      <td>D1</td>\n      <td>31.0</td>\n    </tr>\n    <tr>\n      <th>2</th>\n      <td>23456789</td>\n      <td>Brennan</td>\n      <td>Grace</td>\n      <td>Games</td>\n      <td>23.0</td>\n      <td>19.5</td>\n      <td>35.5</td>\n      <td>11.50</td>\n      <td>23.075</td>\n      <td>54.075</td>\n      <td>C1</td>\n      <td>22.0</td>\n    </tr>\n    <tr>\n      <th>3</th>\n      <td>34567890</td>\n      <td>Casment</td>\n      <td>Eoin</td>\n      <td>Games</td>\n      <td>4.0</td>\n      <td>5.0</td>\n      <td>41.0</td>\n      <td>2.00</td>\n      <td>26.650</td>\n      <td>33.650</td>\n      <td>D2</td>\n      <td>36.0</td>\n    </tr>\n    <tr>\n      <th>4</th>\n      <td>45678901</td>\n      <td>Cleere</td>\n      <td>Anthony</td>\n      <td>Digital Media</td>\n      <td>21.5</td>\n      <td>20.0</td>\n      <td>71.5</td>\n      <td>10.75</td>\n      <td>46.475</td>\n      <td>77.225</td>\n      <td>A2</td>\n      <td>4.0</td>\n    </tr>\n  </tbody>\n</table>\n</div>",
            "text/plain": "   Student_ID Student_Surname Forename         Course  Mid_term_30  \\\n0     1234567         Alderon     Mike       Comp Sys          7.0   \n1    12345678         Brehony      Tom  Digital Media          2.5   \n2    23456789         Brennan    Grace          Games         23.0   \n3    34567890         Casment     Eoin          Games          4.0   \n4    45678901          Cleere  Anthony  Digital Media         21.5   \n\n   Practical_20  Final_Exam_100  Mid_term_15  Final_Exam_65  Total_Marks  \\\n0          18.0            50.5         3.50         32.825       54.325   \n1           9.0            41.0         1.25         26.650       36.900   \n2          19.5            35.5        11.50         23.075       54.075   \n3           5.0            41.0         2.00         26.650       33.650   \n4          20.0            71.5        10.75         46.475       77.225   \n\n  Grade  Rank  \n0    C1  21.0  \n1    D1  31.0  \n2    C1  22.0  \n3    D2  36.0  \n4    A2   4.0  "
          },
          "metadata": {}
        }
      ]
    },
    {
      "metadata": {
        "slideshow": {
          "slide_type": "subslide"
        }
      },
      "cell_type": "markdown",
      "source": "- 5) Create E-mail addresses using Student ID\n    - We have a field for Student_ID and we know that UL students have the following email structure:\n        - Student_ID@studentmail.ul.ie"
    },
    {
      "metadata": {
        "trusted": true
      },
      "cell_type": "code",
      "source": "csis9999.head()\n\ncsis9999['Email'] = \"NA\"\n\nfor student in csis9999.itertuples():    \n    csis9999.at[student.Index, 'Email'] = str(student.Student_ID)+\"@studentmail.ul.ie\"\n        \ncsis9999.head()",
      "execution_count": 130,
      "outputs": [
        {
          "output_type": "execute_result",
          "execution_count": 130,
          "data": {
            "text/html": "<div>\n<style scoped>\n    .dataframe tbody tr th:only-of-type {\n        vertical-align: middle;\n    }\n\n    .dataframe tbody tr th {\n        vertical-align: top;\n    }\n\n    .dataframe thead th {\n        text-align: right;\n    }\n</style>\n<table border=\"1\" class=\"dataframe\">\n  <thead>\n    <tr style=\"text-align: right;\">\n      <th></th>\n      <th>Student_ID</th>\n      <th>Student_Surname</th>\n      <th>Forename</th>\n      <th>Course</th>\n      <th>Mid_term_30</th>\n      <th>Practical_20</th>\n      <th>Final_Exam_100</th>\n      <th>Mid_term_15</th>\n      <th>Final_Exam_65</th>\n      <th>Total_Marks</th>\n      <th>Grade</th>\n      <th>Rank</th>\n      <th>Email</th>\n    </tr>\n  </thead>\n  <tbody>\n    <tr>\n      <th>0</th>\n      <td>1234567</td>\n      <td>Alderon</td>\n      <td>Mike</td>\n      <td>Comp Sys</td>\n      <td>7.0</td>\n      <td>18.0</td>\n      <td>50.5</td>\n      <td>3.50</td>\n      <td>32.825</td>\n      <td>54.325</td>\n      <td>C1</td>\n      <td>21.0</td>\n      <td>1234567@studentmail.ul.ie</td>\n    </tr>\n    <tr>\n      <th>1</th>\n      <td>12345678</td>\n      <td>Brehony</td>\n      <td>Tom</td>\n      <td>Digital Media</td>\n      <td>2.5</td>\n      <td>9.0</td>\n      <td>41.0</td>\n      <td>1.25</td>\n      <td>26.650</td>\n      <td>36.900</td>\n      <td>D1</td>\n      <td>31.0</td>\n      <td>12345678@studentmail.ul.ie</td>\n    </tr>\n    <tr>\n      <th>2</th>\n      <td>23456789</td>\n      <td>Brennan</td>\n      <td>Grace</td>\n      <td>Games</td>\n      <td>23.0</td>\n      <td>19.5</td>\n      <td>35.5</td>\n      <td>11.50</td>\n      <td>23.075</td>\n      <td>54.075</td>\n      <td>C1</td>\n      <td>22.0</td>\n      <td>23456789@studentmail.ul.ie</td>\n    </tr>\n    <tr>\n      <th>3</th>\n      <td>34567890</td>\n      <td>Casment</td>\n      <td>Eoin</td>\n      <td>Games</td>\n      <td>4.0</td>\n      <td>5.0</td>\n      <td>41.0</td>\n      <td>2.00</td>\n      <td>26.650</td>\n      <td>33.650</td>\n      <td>D2</td>\n      <td>36.0</td>\n      <td>34567890@studentmail.ul.ie</td>\n    </tr>\n    <tr>\n      <th>4</th>\n      <td>45678901</td>\n      <td>Cleere</td>\n      <td>Anthony</td>\n      <td>Digital Media</td>\n      <td>21.5</td>\n      <td>20.0</td>\n      <td>71.5</td>\n      <td>10.75</td>\n      <td>46.475</td>\n      <td>77.225</td>\n      <td>A2</td>\n      <td>4.0</td>\n      <td>45678901@studentmail.ul.ie</td>\n    </tr>\n  </tbody>\n</table>\n</div>",
            "text/plain": "   Student_ID Student_Surname Forename         Course  Mid_term_30  \\\n0     1234567         Alderon     Mike       Comp Sys          7.0   \n1    12345678         Brehony      Tom  Digital Media          2.5   \n2    23456789         Brennan    Grace          Games         23.0   \n3    34567890         Casment     Eoin          Games          4.0   \n4    45678901          Cleere  Anthony  Digital Media         21.5   \n\n   Practical_20  Final_Exam_100  Mid_term_15  Final_Exam_65  Total_Marks  \\\n0          18.0            50.5         3.50         32.825       54.325   \n1           9.0            41.0         1.25         26.650       36.900   \n2          19.5            35.5        11.50         23.075       54.075   \n3           5.0            41.0         2.00         26.650       33.650   \n4          20.0            71.5        10.75         46.475       77.225   \n\n  Grade  Rank                       Email  \n0    C1  21.0   1234567@studentmail.ul.ie  \n1    D1  31.0  12345678@studentmail.ul.ie  \n2    C1  22.0  23456789@studentmail.ul.ie  \n3    D2  36.0  34567890@studentmail.ul.ie  \n4    A2   4.0  45678901@studentmail.ul.ie  "
          },
          "metadata": {}
        }
      ]
    },
    {
      "metadata": {},
      "cell_type": "markdown",
      "source": "6) Calculate Average (mean) score\n    - Just like Excel, Pandas has a lot of useful inbuilt functions such as mean, median, std. dev."
    },
    {
      "metadata": {
        "trusted": true
      },
      "cell_type": "code",
      "source": "print(csis9999['Total_Marks'].mean())",
      "execution_count": 133,
      "outputs": [
        {
          "output_type": "stream",
          "text": "54.71768292682926\n",
          "name": "stdout"
        }
      ]
    },
    {
      "metadata": {
        "slideshow": {
          "slide_type": "subslide"
        }
      },
      "cell_type": "markdown",
      "source": "6) Calculate Average (mean) score\n    - What if we  wanted to calculate the mean score for Comp Sys students\n    - In this case we can use the group by statement"
    },
    {
      "metadata": {
        "trusted": true
      },
      "cell_type": "code",
      "source": "print(csis9999.groupby('Course')['Total_Marks'].mean())",
      "execution_count": 135,
      "outputs": [
        {
          "output_type": "stream",
          "text": "Course\nComp Sys         50.981818\nDigital Media    52.512500\nGames            54.572727\nMedia Tech       61.911111\nName: Total_Marks, dtype: float64\n",
          "name": "stdout"
        }
      ]
    },
    {
      "metadata": {
        "slideshow": {
          "slide_type": "subslide"
        }
      },
      "cell_type": "markdown",
      "source": "7) Find Min and Max Score\n "
    },
    {
      "metadata": {
        "trusted": true
      },
      "cell_type": "code",
      "source": "print(\"Min = \",csis9999['Total_Marks'].min())\nprint(\"Max = \",csis9999['Total_Marks'].max())\n\n# Lets find out the Minimum Score by Course\n\nprint(csis9999.groupby('Course')['Total_Marks'].min())",
      "execution_count": 140,
      "outputs": [
        {
          "output_type": "stream",
          "text": "Min =  27.1\nMax =  92.65\nCourse\nComp Sys         27.10\nDigital Media    29.25\nGames            29.05\nMedia Tech       36.35\nName: Total_Marks, dtype: float64\n",
          "name": "stdout"
        }
      ]
    },
    {
      "metadata": {
        "slideshow": {
          "slide_type": "subslide"
        }
      },
      "cell_type": "markdown",
      "source": "8) Plot a histogram of final scores\n    - From last workshop, we know how to use MatPlotLib in Python"
    },
    {
      "metadata": {
        "trusted": true
      },
      "cell_type": "code",
      "source": "import matplotlib.pyplot as plt\n\nplt.hist(csis9999['Total_Marks'])\nplt.show()",
      "execution_count": 142,
      "outputs": [
        {
          "output_type": "display_data",
          "data": {
            "image/png": "[encoded data removed]",
            "text/plain": "<Figure size 432x288 with 1 Axes>"
          },
          "metadata": {
            "needs_background": "light"
          }
        }
      ]
    },
    {
      "metadata": {
        "slideshow": {
          "slide_type": "slide"
        }
      },
      "cell_type": "markdown",
      "source": "\n###### Useful graphing and data manipulation libraries in Python\n\nData Manipulation:\n    - Pandas (Read More: https://pandas.pydata.org/)\n        - Very useful for handling tabular data (CSV and Excel)\n    - Numpy (Read More: https://numpy.org/)\n        - If you care about performance (very large data set), you would have to move from our simple DataFrames to Numpy based data structures\nGraphing Libraries:\n    - MatPlotLib (Read More: https://matplotlib.org/)\n        - This should be enough for most of the basic graphs \n    - Seaborn (Read More: https://seaborn.pydata.org/)\n        - Built on top of MatPlotLib, really useful if you are dealing with DataFrames\n        \nMore Data Analytics Libraries:\n    - SciKitLearn (Read More: https://scikit-learn.org/stable/)\n        - Your starting point for most machine learning in Python\n------\n\n<img src=\"Lero.png\" alt=\"Drawing\" style=\"width: 200px;\" align=\"left\"/>  "
    },
    {
      "metadata": {
        "slideshow": {
          "slide_type": "slide"
        }
      },
      "cell_type": "markdown",
      "source": "\n###### Predictive analysis in Python: Linear Regression \n\n- We want to use Machine Learning to Predict the Total Marks based on the score in Mid Term\n<img src=\"linearRegression.png\" alt=\"Drawing\" style=\"width: 600px;\"/>  \n\n"
    },
    {
      "metadata": {
        "slideshow": {
          "slide_type": "subslide"
        },
        "trusted": true
      },
      "cell_type": "code",
      "source": "import pandas as pd    \nimport matplotlib.pyplot as plt  \nfrom sklearn.model_selection import train_test_split \nfrom sklearn.linear_model import LinearRegression\n\n# Before we start here is a plot of mid term score and final score\n\nplt.scatter(csis9999['Mid_term_15'],csis9999['Total_Marks'])",
      "execution_count": 164,
      "outputs": [
        {
          "output_type": "execute_result",
          "execution_count": 164,
          "data": {
            "text/plain": "<matplotlib.collections.PathCollection at 0x7efeb4696c18>"
          },
          "metadata": {}
        },
        {
          "output_type": "display_data",
          "data": {
            "image/png": "[encoded data removed]",
            "text/plain": "<Figure size 432x288 with 1 Axes>"
          },
          "metadata": {
            "needs_background": "light"
          }
        }
      ]
    },
    {
      "metadata": {
        "slideshow": {
          "slide_type": "subslide"
        },
        "trusted": true
      },
      "cell_type": "code",
      "source": "import pandas as pd    \nimport matplotlib.pyplot as plt  \nfrom sklearn.model_selection import train_test_split \nfrom sklearn.linear_model import LinearRegression\n\n# Before we start here is a plot of mid term score and final score\nX = csis9999['Mid_term_15'].values.reshape(-1,1)\ny = csis9999['Total_Marks'].values.reshape(-1,1)\n\nX_train, X_test, y_train, y_test = train_test_split(X, y, test_size=0.2, random_state=0)\n\nregressor = LinearRegression()  \nregressor.fit(X_train, y_train) #training the algorithm\n\ny_pred = regressor.predict(X_test)\n\nprint(y_test,y_pred)",
      "execution_count": 173,
      "outputs": [
        {
          "output_type": "stream",
          "text": "[[80.45 ]\n [36.625]\n [73.05 ]\n [77.225]\n [53.55 ]\n [78.5  ]\n [68.55 ]\n [64.75 ]\n [53.6  ]] [[72.30832835]\n [43.44056979]\n [52.82259132]\n [62.92630682]\n [41.99718186]\n [75.19510421]\n [69.4215525 ]\n [73.03002232]\n [46.32734565]]\n",
          "name": "stdout"
        }
      ]
    },
    {
      "metadata": {
        "slideshow": {
          "slide_type": "slide"
        }
      },
      "cell_type": "markdown",
      "source": "\n###### Where to go from here?\n\n- Data Science -> Kaggle (https://www.kaggle.com/)\n- Coding -> https://www.w3schools.com/python/python_intro.asp\n\n------\n\n<img src=\"Lero.png\" alt=\"Drawing\" style=\"width: 200px;\" align=\"left\"/>  "
    },
    {
      "metadata": {
        "slideshow": {
          "slide_type": "subslide"
        }
      },
      "cell_type": "markdown",
      "source": "\n# Data Manipulation in Python Part 2\n\n#### Ashish Rajendra Sai\n\n###### Ph.D. Candidate - University of Limerick \n\nAny outstanding questions?\n\n <img src=\"Lero.png\" style=\"width: 400px;\" align=\"left\"/>    <img src=\"sfi.png\" style=\"width: 400px;float: right;\"/>"
    }
  ],
  "metadata": {
    "kernelspec": {
      "name": "python36",
      "display_name": "Python 3.6",
      "language": "python"
    },
    "celltoolbar": "Slideshow",
    "rise": {
      "autolaunch": true,
      "overlay": "<div class='myheader'><h2>my company</h2></div><div class='myfooter'><h2>the date</h2></div>"
    }
  },
  "nbformat": 4,
  "nbformat_minor": 1
}